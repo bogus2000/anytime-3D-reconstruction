{
 "cells": [
  {
   "cell_type": "code",
   "execution_count": 1,
   "metadata": {},
   "outputs": [
    {
     "name": "stdout",
     "output_type": "stream",
     "text": [
      "[  1.00000000e-41   1.00000000e-37   1.00000000e-33   1.00000000e-29\n",
      "   1.00000000e-25   1.00000000e-21   1.00000000e-17   1.00000000e-13\n",
      "   1.00000000e-09   1.00000000e-05   1.00000000e-01   2.00000000e-01\n",
      "   3.00000000e-01   4.00000000e-01   5.00000000e-01   6.00000000e-01\n",
      "   7.00000000e-01   8.00000000e-01   9.00000000e-01   9.00000000e-01\n",
      "   9.90000000e-01   9.99000000e-01   9.99900000e-01   9.99990000e-01\n",
      "   9.99999000e-01   9.99999900e-01   9.99999990e-01   9.99999999e-01\n",
      "   1.00000000e+00]\n"
     ]
    }
   ],
   "source": [
    "import numpy as np\n",
    "div = 10\n",
    "r1 = [0.01**(2*(div-i))/div for i in range(div)]\n",
    "r2 = [(i+1)*1.0/div for i in range(div-1)]\n",
    "r3 = [1.0-0.1**(i)/div for i in range(div)]\n",
    "rng = np.concatenate([r1,r2,r3])\n",
    "print( rng)"
   ]
  },
  {
   "cell_type": "code",
   "execution_count": 2,
   "metadata": {},
   "outputs": [
    {
     "name": "stdout",
     "output_type": "stream",
     "text": [
      "[  6.66666667e-57   6.66666667e-53   6.66666667e-49   6.66666667e-45\n",
      "   6.66666667e-41   6.66666667e-37   6.66666667e-33   6.66666667e-29\n",
      "   6.66666667e-25   6.66666667e-21   6.66666667e-17   6.66666667e-13\n",
      "   6.66666667e-09   6.66666667e-05   6.66666667e-01   6.66666667e+03\n",
      "   1.33333333e+04   2.00000000e+04   2.66666667e+04   3.33333333e+04\n",
      "   4.00000000e+04   4.66666667e+04   5.33333333e+04   6.00000000e+04\n",
      "   6.66666667e+04   7.33333333e+04   8.00000000e+04   8.66666667e+04\n",
      "   9.33333333e+04   9.33333333e+04   9.93333333e+04   9.99333333e+04\n",
      "   9.99933333e+04   9.99993333e+04   9.99999333e+04   9.99999933e+04\n",
      "   9.99999993e+04   9.99999999e+04   1.00000000e+05   1.00000000e+05\n",
      "   1.00000000e+05   1.00000000e+05   1.00000000e+05   1.00000000e+05]\n"
     ]
    }
   ],
   "source": [
    "import numpy as np\n",
    "div = 15\n",
    "t_pow = 5\n",
    "r1 = [(10.0**t_pow)*0.01**(2*(div-i))/div for i in range(div)]\n",
    "r2 = [(10.0**t_pow)*(i+1)*1.0/div for i in range(div-1)]\n",
    "r3_pow = 1.0\n",
    "r3 = [((10.0**t_pow)-(0.1**r3_pow)**(i - (t_pow/r3_pow))/div) for i in range(div)]\n",
    "rng = np.concatenate([r1,r2,r3])\n",
    "print(rng)"
   ]
  },
  {
   "cell_type": "code",
   "execution_count": 3,
   "metadata": {},
   "outputs": [],
   "source": [
    "def test(yTarget, yPred, div=10):    \n",
    "#     r1 = [0.01**(2*(div-i))/div for i in range(div)]\n",
    "    r2 = [(i+1)*1.0/div for i in range(div-1)]\n",
    "#     r3 = [1.0-0.1**(i)/div for i in range(div)]\n",
    "#     rng = np.concatenate([r1,r2,r3])\n",
    "    rng = r2\n",
    "#     t_pow = 5\n",
    "#     r1 = [(10.0**t_pow)*0.01**(2*(div-i))/div for i in range(div)]\n",
    "#     r2 = [(10.0**t_pow)*(i+1)*1.0/div for i in range(div-1)]\n",
    "#     r3_pow = 1.0\n",
    "#     r3 = [((10.0**t_pow)-(0.1**r3_pow)**(i - (t_pow/r3_pow))/div) for i in range(div)]\n",
    "#     rng = np.concatenate([r1,r2,r3])\n",
    "    \n",
    "    TP_FP_FN = np.zeros((len(rng) + div, 3))\n",
    "    precision_recall = np.zeros((len(rng) + div, 2))\n",
    "    \n",
    "    \n",
    "    \n",
    "    yTarget = np.reshape(yTarget, (-1,64*64*64))\n",
    "    yPred = np.reshape(yPred, (-1,64*64*64))\n",
    "#         print np.sum(yTarget)\n",
    "#         print np.sum(yPred)\n",
    "    for prob_idx in range(len(rng)):\n",
    "        print(prob_idx, len(rng))\n",
    "        prob = rng[prob_idx]\n",
    "#                 yTarget_t = np.where(yTarget>prob, 1.0, 0.0)\n",
    "        yPred_t = np.where(yPred>prob, 1.0, 0.0)\n",
    "        TP_FP_FN[prob_idx][0] += np.sum(yTarget*yPred_t)\n",
    "        TP_FP_FN[prob_idx][1] += np.sum((1.0-yTarget)*yPred_t)\n",
    "        TP_FP_FN[prob_idx][2] += np.sum(yTarget*(1.0-yPred_t))\n",
    "    for accept_idx in range(div):\n",
    "        print(accept_idx, range(div))\n",
    "        accept_prob = 0.1**(accept_idx)\n",
    "        accept_int = np.random.choice([0, 1], size=(len(yPred),64*64*64), p=[1.0-accept_prob, accept_prob])\n",
    "#                 yTarget_t = np.greater_equal(yTarget, 1.0)\n",
    "#                 yTarget_t = yTarget\n",
    "        yPred_t = np.greater_equal(yPred, 1.0) * accept_int\n",
    "        TP_FP_FN[len(rng)+accept_idx][0] += np.sum(yTarget*yPred_t)\n",
    "        TP_FP_FN[len(rng)+accept_idx][1] += np.sum((1.0-yTarget)*yPred_t)\n",
    "        TP_FP_FN[len(rng)+accept_idx][2] += np.sum(yTarget*(1.0-yPred_t))\n",
    "        \n",
    "    for i in range(len(precision_recall)):\n",
    "        print(i, len(precision_recall))\n",
    "        TP = TP_FP_FN[i][0]\n",
    "        FP = TP_FP_FN[i][1]\n",
    "        FN = TP_FP_FN[i][2]\n",
    "        precision_recall[i][0] = TP/(TP+FP+1e-10)\n",
    "        precision_recall[i][1] = TP/(TP+FN+1e-10)\n",
    "    return precision_recall"
   ]
  },
  {
   "cell_type": "code",
   "execution_count": null,
   "metadata": {
    "scrolled": true
   },
   "outputs": [
    {
     "name": "stdout",
     "output_type": "stream",
     "text": [
      "0 19\n",
      "1 19\n",
      "2 19\n",
      "3 19\n",
      "4 19\n",
      "5 19\n",
      "6 19\n",
      "7 19\n",
      "8 19\n",
      "9 19\n",
      "10 19\n",
      "11 19\n",
      "12 19\n",
      "13 19\n",
      "14 19\n",
      "15 19\n",
      "16 19\n",
      "17 19\n"
     ]
    }
   ],
   "source": [
    "import numpy as np\n",
    "import os\n",
    "datapath = 'data/modelnet/data_AE/'\n",
    "missing_pr = 0.3\n",
    "# category_labels = np.load('/learn_train/'+str(missing_pr)+'_cl_label.npy')\n",
    "output_images_gt = np.load(os.path.join(datapath, 'learn_train/'+str(missing_pr)+'_gt.npy'))\n",
    "output_images_preds = np.load(os.path.join(datapath, 'learn_train/'+str(missing_pr)+'_pred.npy'))\n",
    "\n",
    "pr_preds = test(output_images_gt, output_images_preds, div=20)\n",
    "np.save(os.path.join(datapath, 'learn_train/'+str(missing_pr)+'_pr_preds.npy'), pr_preds)\n",
    "np.savetxt('data/eval/txt/'+'modelnet_'+str(missing_pr*10)+'_AE.txt', pr_preds)"
   ]
  },
  {
   "cell_type": "code",
   "execution_count": null,
   "metadata": {},
   "outputs": [],
   "source": []
  }
 ],
 "metadata": {
  "kernelspec": {
   "display_name": "Python 3",
   "language": "python",
   "name": "python3"
  },
  "language_info": {
   "codemirror_mode": {
    "name": "ipython",
    "version": 3
   },
   "file_extension": ".py",
   "mimetype": "text/x-python",
   "name": "python",
   "nbconvert_exporter": "python",
   "pygments_lexer": "ipython3",
   "version": "3.6.9"
  }
 },
 "nbformat": 4,
 "nbformat_minor": 2
}
